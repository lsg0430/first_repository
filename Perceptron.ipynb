{
  "nbformat": 4,
  "nbformat_minor": 0,
  "metadata": {
    "colab": {
      "provenance": [],
      "authorship_tag": "ABX9TyPbMTGuU7Z/VT/bvv3rrhf4",
      "include_colab_link": true
    },
    "kernelspec": {
      "name": "python3",
      "display_name": "Python 3"
    },
    "language_info": {
      "name": "python"
    }
  },
  "cells": [
    {
      "cell_type": "markdown",
      "metadata": {
        "id": "view-in-github",
        "colab_type": "text"
      },
      "source": [
        "<a href=\"https://colab.research.google.com/github/lsg0430/first_repository/blob/main/Perceptron.ipynb\" target=\"_parent\"><img src=\"https://colab.research.google.com/assets/colab-badge.svg\" alt=\"Open In Colab\"/></a>"
      ]
    },
    {
      "cell_type": "code",
      "execution_count": null,
      "metadata": {
        "colab": {
          "base_uri": "https://localhost:8080/"
        },
        "id": "7gS8FuDIvCqy",
        "outputId": "1c672b8a-1a3d-471a-c74d-7063f71c37ca"
      },
      "outputs": [
        {
          "output_type": "stream",
          "name": "stdout",
          "text": [
            "0 0.5430929660797119\n",
            "1000 0.3411541283130646\n",
            "2000 0.2660278081893921\n",
            "3000 0.21657560765743256\n",
            "4000 0.18183396756649017\n",
            "5000 0.1562110334634781\n",
            "6000 0.1365913450717926\n",
            "7000 0.12112344801425934\n",
            "8000 0.10864154994487762\n",
            "9000 0.09837546199560165\n",
            "10000 0.08979637920856476\n",
            "11000 0.08252951502799988\n",
            "12000 0.0763021782040596\n",
            "13000 0.07091116905212402\n",
            "14000 0.06620251387357712\n",
            "15000 0.06205717474222183\n",
            "16000 0.058381933718919754\n",
            "17000 0.05510282516479492\n",
            "18000 0.052160296589136124\n",
            "19000 0.04950617253780365\n",
            "20000 0.047100868076086044\n"
          ]
        }
      ],
      "source": [
        "import torch\n",
        "import torch.nn as nn\n",
        "\n",
        "# GPU 사용 설정\n",
        "device = 'cuda' if torch.cuda.is_available() else 'cpu'\n",
        "\n",
        "# Random 함수 사용을 위한 seed value 설정\n",
        "torch.manual_seed(2022)\n",
        "if device == 'cuda':\n",
        "    torch.cuda.manual_seed(2022)\n",
        "\n",
        "# input tensors\n",
        "X = torch.FloatTensor([\n",
        "    [0, 0],\n",
        "    [0, 1],\n",
        "    [1, 0],\n",
        "    [1, 1]\n",
        "    ]).to(device)\n",
        "\n",
        "# output tensors\n",
        "Y = torch.FloatTensor([\n",
        "    [0], [1], [1], [1]\n",
        "    ]).to(device)\n",
        "\n",
        "# Perceptron 연결 구조 설정\n",
        "model = nn.Sequential(\n",
        "    nn.Linear(2, 1, bias=True),\n",
        "    nn.Sigmoid()\n",
        ").to(device)\n",
        "\n",
        "# 손실 함수 및 학습 알고리즘 설정\n",
        "loss_func = torch.nn.BCELoss().to(device)\n",
        "optimizer = torch.optim.SGD(model.parameters(), lr=0.01)\n",
        "\n",
        "# Perceptron 학습\n",
        "for step in range(20001):\n",
        "    optimizer.zero_grad()\n",
        "\n",
        "    Y_hat = model(X)\n",
        "    loss = loss_func(Y_hat, Y)\n",
        "    loss.backward()\n",
        "    optimizer.step()\n",
        "\n",
        "    if step % 1000 == 0:\n",
        "        print(step, loss.item())"
      ]
    },
    {
      "cell_type": "code",
      "source": [
        "# 학습된 Perceptron 테스트\n",
        "with torch.no_grad():\n",
        "    model.eval()\n",
        "    inputs = torch.FloatTensor([\n",
        "        [0, 0],\n",
        "        [0, 1],\n",
        "        [1, 0],\n",
        "        [1, 1]\n",
        "        ]).to(device)\n",
        "    outputs = model(inputs)\n",
        "\n",
        "    print(outputs)\n",
        "    print(outputs > 0.5)"
      ],
      "metadata": {
        "colab": {
          "base_uri": "https://localhost:8080/"
        },
        "id": "28Oyf07O17zq",
        "outputId": "debe6798-cf75-45c4-9903-b1d5fa1337d1"
      },
      "execution_count": null,
      "outputs": [
        {
          "output_type": "stream",
          "name": "stdout",
          "text": [
            "tensor([[0.1011],\n",
            "        [0.9603],\n",
            "        [0.9597],\n",
            "        [0.9998]])\n",
            "tensor([[False],\n",
            "        [ True],\n",
            "        [ True],\n",
            "        [ True]])\n"
          ]
        }
      ]
    },
    {
      "cell_type": "code",
      "source": [],
      "metadata": {
        "id": "MqBVLWB32muz"
      },
      "execution_count": null,
      "outputs": []
    }
  ]
}